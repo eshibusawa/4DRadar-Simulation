{
 "cells": [
  {
   "cell_type": "code",
   "execution_count": null,
   "metadata": {},
   "outputs": [],
   "source": [
    "import numpy as np\n",
    "import matplotlib.pyplot as plt\n",
    "\n",
    "from sensor import ULA"
   ]
  },
  {
   "cell_type": "code",
   "execution_count": null,
   "metadata": {},
   "outputs": [],
   "source": [
    "theta_0 = 0\n",
    "nr = 7\n",
    "d = 0.5\n",
    "\n",
    "ula_normal = ULA(nr, d)\n",
    "coef = ula_normal.get_steering_vector(theta_0)\n",
    "p_fft, angle_bins_fft = ula_normal.get_beam_pattern_fft(coef) # FFT solution\n",
    "p, angle_bins = ula_normal.get_beam_pattern(theta_0) # analytical solution"
   ]
  },
  {
   "cell_type": "code",
   "execution_count": null,
   "metadata": {},
   "outputs": [],
   "source": [
    "angle_bins_deg = np.rad2deg(angle_bins)\n",
    "angle_bins_fft_deg = np.rad2deg(angle_bins_fft)\n",
    "\n",
    "fig, ax = plt.subplots()\n",
    "ax.set_ylabel('Beam Pattern [dB]')\n",
    "ax.set_xlabel('Theta [Deg.]')\n",
    "ax.set_xlim([-90, 90])\n",
    "ax.set_ylim([-40, 0])\n",
    "ax.plot(angle_bins_deg, p, '-', label='analytical')\n",
    "ax.plot(angle_bins_fft_deg, p_fft, '--', label='FFT')\n",
    "ax.invert_xaxis()\n",
    "ax.grid()\n",
    "ax.legend()"
   ]
  },
  {
   "cell_type": "code",
   "execution_count": null,
   "metadata": {},
   "outputs": [],
   "source": [
    "fig, ax = plt.subplots(subplot_kw={'projection': 'polar'})\n",
    "ax.set_thetalim([-np.pi/2, np.pi/2])\n",
    "ax.set_rlim([-40, 0])\n",
    "ax.set_theta_zero_location('N')\n",
    "ax.set_xlabel('Beam Pattern [dB]', labelpad=-40)\n",
    "ax.set_ylabel('Theta [Deg.]', labelpad=20)\n",
    "ax.plot(angle_bins, p, '-', label='analytical')\n",
    "ax.plot(angle_bins_fft, p_fft, '--', label='FFT')\n",
    "ax.legend()"
   ]
  },
  {
   "cell_type": "code",
   "execution_count": null,
   "metadata": {},
   "outputs": [],
   "source": [
    "theta_0_deg = 35\n",
    "theta_0 = np.deg2rad(theta_0_deg)\n",
    "coef = ula_normal.get_steering_vector(theta_0)\n",
    "p_fft, _ = ula_normal.get_beam_pattern_fft(coef)\n",
    "p, _ = ula_normal.get_beam_pattern(theta_0)"
   ]
  },
  {
   "cell_type": "code",
   "execution_count": null,
   "metadata": {},
   "outputs": [],
   "source": [
    "theta_0 = 0\n",
    "p, angle_bins = ula_normal.get_beam_pattern(theta_0)\n",
    "\n",
    "d_grating = 0.8\n",
    "ula_grating = ULA(nr, d_grating)\n",
    "p_grating, angle_bins_grating = ula_grating.get_beam_pattern(theta_0)"
   ]
  },
  {
   "cell_type": "code",
   "execution_count": null,
   "metadata": {},
   "outputs": [],
   "source": [
    "angle_bins_deg = np.rad2deg(angle_bins)\n",
    "angle_bins_grating_deg = np.rad2deg(angle_bins_grating)\n",
    "\n",
    "fig, ax = plt.subplots()\n",
    "ax.set_ylabel('Beam Pattern [dB]')\n",
    "ax.set_xlabel('Theta [Deg.]')\n",
    "ax.set_xlim([-90, 90])\n",
    "ax.set_ylim([-40, 0])\n",
    "ax.plot(angle_bins_deg, p, label='d = {:f}'.format(d))\n",
    "ax.plot(angle_bins_grating_deg, p_grating, label='d = {:f}'.format(d_grating))\n",
    "ax.invert_xaxis()\n",
    "ax.grid()\n",
    "ax.legend()"
   ]
  },
  {
   "cell_type": "code",
   "execution_count": null,
   "metadata": {},
   "outputs": [],
   "source": [
    "theta_0_deg = 35\n",
    "theta_0 = np.deg2rad(theta_0_deg)\n",
    "p, angle_bins = ula_normal.get_beam_pattern(theta_0)\n",
    "p_grating, angle_bins_grating = ula_grating.get_beam_pattern(theta_0)"
   ]
  },
  {
   "cell_type": "code",
   "execution_count": null,
   "metadata": {},
   "outputs": [],
   "source": [
    "angle_bins_deg = np.rad2deg(angle_bins)\n",
    "angle_bins_grating_deg = np.rad2deg(angle_bins_grating)\n",
    "\n",
    "fig, ax = plt.subplots()\n",
    "ax.set_ylabel('Beam Pattern [dB]')\n",
    "ax.set_xlabel('Theta [Deg.]')\n",
    "ax.set_xlim([-90, 90])\n",
    "ax.set_ylim([-40, 0])\n",
    "ax.plot(angle_bins_deg, p, label='d = {:f}'.format(d))\n",
    "ax.plot(angle_bins_grating_deg, p_grating, label='d = {:f}'.format(d_grating))\n",
    "ax.invert_xaxis()\n",
    "ax.grid()\n",
    "ax.legend()"
   ]
  },
  {
   "cell_type": "code",
   "execution_count": null,
   "metadata": {},
   "outputs": [],
   "source": [
    "ds = np.arange(1, 6) / 10\n",
    "ps = []\n",
    "for dd in ds:\n",
    "    u = ULA(nr, dd)\n",
    "    p, angle_bins = u.get_beam_pattern()\n",
    "    ps.append(p)"
   ]
  },
  {
   "cell_type": "code",
   "execution_count": null,
   "metadata": {},
   "outputs": [],
   "source": [
    "angle_bins_deg = np.rad2deg(angle_bins)\n",
    "\n",
    "fig, ax = plt.subplots()\n",
    "ax.set_ylabel('Beam Pattern [dB]')\n",
    "ax.set_xlabel('Theta [Deg.]')\n",
    "ax.set_xlim([-90, 90])\n",
    "ax.set_ylim([-40, 0])\n",
    "for k in range(len(ds)):\n",
    "    ax.plot(angle_bins_deg, ps[-(k+1)], label='d = {:1.1f}'.format(ds[-(k+1)]))\n",
    "ax.invert_xaxis()\n",
    "ax.grid()\n",
    "ax.legend()"
   ]
  },
  {
   "cell_type": "code",
   "execution_count": null,
   "metadata": {},
   "outputs": [],
   "source": [
    "ds = np.arange(0.01, 2, 0.01)\n",
    "ps = []\n",
    "for dd in ds:\n",
    "    u = ULA(nr, dd)\n",
    "    p, angle_bins = u.get_beam_pattern()\n",
    "    ps.append(p)"
   ]
  },
  {
   "cell_type": "code",
   "execution_count": null,
   "metadata": {},
   "outputs": [],
   "source": [
    "angle_bins_deg = np.rad2deg(angle_bins)\n",
    "\n",
    "min_dB = -40\n",
    "pds = np.array(ps)\n",
    "fig, ax = plt.subplots()\n",
    "cm = ax.pcolor(angle_bins_deg, ds, pds, cmap='turbo', vmin=min_dB)\n",
    "fig.colorbar(cm, ax=ax, label='Response [dB]')\n",
    "ax.set_ylabel('d (relative to lambda)')\n",
    "ax.set_xlabel('Theta [Deg.]')\n",
    "ax.set_xlim([-90, 90])\n",
    "ax.set_ylim([0, 2])\n",
    "ax.invert_xaxis()"
   ]
  },
  {
   "cell_type": "code",
   "execution_count": null,
   "metadata": {},
   "outputs": [],
   "source": [
    "theta_0 = 0\n",
    "nr = 32\n",
    "d = 0.5\n",
    "ula_normal = ULA(nr, d)"
   ]
  },
  {
   "cell_type": "code",
   "execution_count": null,
   "metadata": {},
   "outputs": [],
   "source": [
    "coef = ula_normal.get_steering_vector(theta_0)\n",
    "p_fft, angle_bins_fft = ula_normal.get_beam_pattern_fft(coef)\n",
    "\n",
    "t = np.arange(0, nr)\n",
    "rectangular_window = np.ones(nr)\n",
    "hanning_window = np.hanning(nr)\n",
    "coef_hanning = coef * hanning_window\n",
    "p_hanning_fft, angle_bins_fft = ula_normal.get_beam_pattern_fft(coef_hanning)\n",
    "hamming_window = np.hamming(nr)\n",
    "coef_hamming = coef * hamming_window\n",
    "p_hamming_fft, angle_bins_fft = ula_normal.get_beam_pattern_fft(coef_hamming)\n",
    "blackman_window = np.blackman(nr)\n",
    "coef_blackman = coef * blackman_window\n",
    "p_blackman_fft, angle_bins_fft = ula_normal.get_beam_pattern_fft(coef_blackman)"
   ]
  },
  {
   "cell_type": "code",
   "execution_count": null,
   "metadata": {},
   "outputs": [],
   "source": [
    "fig, ax = plt.subplots()\n",
    "ax.set_ylabel('Coefficient')\n",
    "ax.set_xlabel('#')\n",
    "ax.set_xlim([0, nr - 1])\n",
    "ax.plot(t, rectangular_window, label='original = rectangular')\n",
    "ax.plot(t, hanning_window, label='hanning')\n",
    "ax.plot(t, hamming_window, label='hamming')\n",
    "ax.plot(t, blackman_window, label='blackman')\n",
    "ax.grid()\n",
    "ax.legend()"
   ]
  },
  {
   "cell_type": "code",
   "execution_count": null,
   "metadata": {},
   "outputs": [],
   "source": [
    "angle_bins_fft_deg = np.rad2deg(angle_bins_fft)\n",
    "\n",
    "fig, ax = plt.subplots()\n",
    "ax.set_ylabel('Beam Pattern [dB]')\n",
    "ax.set_xlabel('Theta [Deg.]')\n",
    "ax.set_xlim([-90, 90])\n",
    "ax.set_ylim([-60, 0])\n",
    "ax.plot(angle_bins_fft_deg, p_fft, label='original')\n",
    "ax.plot(angle_bins_fft_deg, p_hanning_fft, label='hanning')\n",
    "ax.plot(angle_bins_fft_deg, p_hamming_fft, label='hamming')\n",
    "ax.plot(angle_bins_fft_deg, p_blackman_fft, label='blackman')\n",
    "ax.invert_xaxis()\n",
    "ax.grid()\n",
    "ax.legend()"
   ]
  }
 ],
 "metadata": {
  "language_info": {
   "name": "python"
  }
 },
 "nbformat": 4,
 "nbformat_minor": 2
}
